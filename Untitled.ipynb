{
  "nbformat": 4,
  "nbformat_minor": 0,
  "metadata": {
    "colab": {
      "provenance": [],
      "authorship_tag": "ABX9TyN4AONlP0Xi8CdCcRqzzba/",
      "include_colab_link": true
    },
    "kernelspec": {
      "name": "python3",
      "display_name": "Python 3"
    },
    "language_info": {
      "name": "python"
    }
  },
  "cells": [
    {
      "cell_type": "markdown",
      "metadata": {
        "id": "view-in-github",
        "colab_type": "text"
      },
      "source": [
        "<a href=\"https://colab.research.google.com/github/Kristina8855/goit-algo-hw-03-/blob/main/Untitled.ipynb\" target=\"_parent\"><img src=\"https://colab.research.google.com/assets/colab-badge.svg\" alt=\"Open In Colab\"/></a>"
      ]
    },
    {
      "cell_type": "code",
      "execution_count": 23,
      "metadata": {
        "id": "PGHfR8aPoYVF"
      },
      "outputs": [],
      "source": [
        "import numpy as np\n",
        "import pandas as pd\n",
        "import matplotlib.pyplot as plt\n"
      ]
    },
    {
      "cell_type": "markdown",
      "source": [
        "1. одновимірний масив (вектор) з першими 10-ма натуральними числами та виведіть його значення."
      ],
      "metadata": {
        "id": "7ASNbkjV19M4"
      }
    },
    {
      "cell_type": "code",
      "source": [
        "a = np.array([1, 2, 3, 4, 5, 6, 7, 8, 9, 10])"
      ],
      "metadata": {
        "id": "tBLlBUhnuajA"
      },
      "execution_count": 24,
      "outputs": []
    },
    {
      "cell_type": "code",
      "source": [
        "a"
      ],
      "metadata": {
        "colab": {
          "base_uri": "https://localhost:8080/"
        },
        "collapsed": true,
        "id": "zr0coxy8vect",
        "outputId": "5a2e69aa-34ab-4a7b-bfb7-afc6d09ce9f8"
      },
      "execution_count": 25,
      "outputs": [
        {
          "output_type": "execute_result",
          "data": {
            "text/plain": [
              "array([ 1,  2,  3,  4,  5,  6,  7,  8,  9, 10])"
            ]
          },
          "metadata": {},
          "execution_count": 25
        }
      ]
    },
    {
      "cell_type": "markdown",
      "source": [
        "2. двовимірний масив (матрицю) розміром 3x3, заповніть його нулями та виведіть його значення"
      ],
      "metadata": {
        "id": "DM014BAe2ErU"
      }
    },
    {
      "cell_type": "code",
      "source": [
        "b = np.array([[0, 0, 0], [0, 0, 0], [0, 0, 0]])\n",
        "b"
      ],
      "metadata": {
        "colab": {
          "base_uri": "https://localhost:8080/"
        },
        "id": "w1x7RWGPx-zM",
        "outputId": "97369fcf-81b9-4c1a-bb0d-70a1a6911f66"
      },
      "execution_count": 26,
      "outputs": [
        {
          "output_type": "execute_result",
          "data": {
            "text/plain": [
              "array([[0, 0, 0],\n",
              "       [0, 0, 0],\n",
              "       [0, 0, 0]])"
            ]
          },
          "metadata": {},
          "execution_count": 26
        }
      ]
    },
    {
      "cell_type": "markdown",
      "source": [
        "3. масив розміром 5x5, заповніть його випадковими цілими числами в діапазоні від 1 до 10 та виведіть його значення"
      ],
      "metadata": {
        "id": "UiJEdMIT2I_N"
      }
    },
    {
      "cell_type": "code",
      "source": [
        "c = np.array([\n",
        "    [6, 9, 5, 0, 4],\n",
        "    [8, 3, 6, 8, 3],\n",
        "    [7, 9, 3, 1, 6],\n",
        "    [6, 7, 8, 4, 7],\n",
        "    [6, 2, 1, 9, 5]\n",
        "])"
      ],
      "metadata": {
        "id": "huAZ5qFHyo9H"
      },
      "execution_count": 27,
      "outputs": []
    },
    {
      "cell_type": "code",
      "source": [
        "c"
      ],
      "metadata": {
        "colab": {
          "base_uri": "https://localhost:8080/"
        },
        "id": "-UMp0gZxz2D6",
        "outputId": "f85ee1f9-d62c-46c1-c04b-272ab52b96d0"
      },
      "execution_count": 28,
      "outputs": [
        {
          "output_type": "execute_result",
          "data": {
            "text/plain": [
              "array([[6, 9, 5, 0, 4],\n",
              "       [8, 3, 6, 8, 3],\n",
              "       [7, 9, 3, 1, 6],\n",
              "       [6, 7, 8, 4, 7],\n",
              "       [6, 2, 1, 9, 5]])"
            ]
          },
          "metadata": {},
          "execution_count": 28
        }
      ]
    },
    {
      "cell_type": "markdown",
      "source": [
        "4. масив розміром 4x4, заповніть його випадковими дійсними числами в діапазоні від 0 до 1 та виведіть його значення"
      ],
      "metadata": {
        "id": "759Ng7Bv2Now"
      }
    },
    {
      "cell_type": "code",
      "source": [
        "d = np.array([[7, 8, 3, 5], [6, 4, 5,8], [4, 1, 5, 2], [3, 9, 8, 6]])"
      ],
      "metadata": {
        "id": "xK17VYsZ0Kni"
      },
      "execution_count": 30,
      "outputs": []
    },
    {
      "cell_type": "code",
      "source": [
        "d"
      ],
      "metadata": {
        "colab": {
          "base_uri": "https://localhost:8080/"
        },
        "id": "cgJg8s5U0Z2x",
        "outputId": "30e4ab9a-0c62-4d35-c1b5-942fec33d36d"
      },
      "execution_count": 31,
      "outputs": [
        {
          "output_type": "execute_result",
          "data": {
            "text/plain": [
              "array([[7, 8, 3, 5],\n",
              "       [6, 4, 5, 8],\n",
              "       [4, 1, 5, 2],\n",
              "       [3, 9, 8, 6]])"
            ]
          },
          "metadata": {},
          "execution_count": 31
        }
      ]
    },
    {
      "cell_type": "markdown",
      "source": [
        "5. два одновимірних масиви розміром 5, заповніть їх випадковими цілими числами в діапазоні від 1 до 10 та виконайте на них поелементні операції додавання, віднімання та множення"
      ],
      "metadata": {
        "id": "IH9di-1v2RGU"
      }
    },
    {
      "cell_type": "code",
      "source": [
        "f = np.array([6, 9, 5, 2, 4])\n",
        "\n",
        "g = np.array([6, 3, 6, 1, 4])"
      ],
      "metadata": {
        "id": "layzLtxP0nPz"
      },
      "execution_count": 38,
      "outputs": []
    },
    {
      "cell_type": "code",
      "source": [
        "f + g"
      ],
      "metadata": {
        "colab": {
          "base_uri": "https://localhost:8080/"
        },
        "id": "qI69fn_C0z3G",
        "outputId": "6ed7fb64-1d19-433a-8734-cc85b4b4baee"
      },
      "execution_count": 39,
      "outputs": [
        {
          "output_type": "execute_result",
          "data": {
            "text/plain": [
              "array([12, 12, 11,  3,  8])"
            ]
          },
          "metadata": {},
          "execution_count": 39
        }
      ]
    },
    {
      "cell_type": "code",
      "source": [
        "f - g"
      ],
      "metadata": {
        "colab": {
          "base_uri": "https://localhost:8080/"
        },
        "id": "0dLEJ4Z51EXW",
        "outputId": "c7de5486-babc-4597-a03a-38606efe736a"
      },
      "execution_count": 40,
      "outputs": [
        {
          "output_type": "execute_result",
          "data": {
            "text/plain": [
              "array([ 0,  6, -1,  1,  0])"
            ]
          },
          "metadata": {},
          "execution_count": 40
        }
      ]
    },
    {
      "cell_type": "code",
      "source": [
        "f * g"
      ],
      "metadata": {
        "colab": {
          "base_uri": "https://localhost:8080/"
        },
        "id": "WGlgZwbp1G7a",
        "outputId": "635fd6c2-1d73-4fa1-a2c7-f95d5bc6089c"
      },
      "execution_count": 41,
      "outputs": [
        {
          "output_type": "execute_result",
          "data": {
            "text/plain": [
              "array([36, 27, 30,  2, 16])"
            ]
          },
          "metadata": {},
          "execution_count": 41
        }
      ]
    },
    {
      "cell_type": "markdown",
      "source": [
        " 6. два вектори розміром 7, заповніть довільними числами та знайдіть їх скалярний добуток"
      ],
      "metadata": {
        "id": "8JqjWoT12U6V"
      }
    },
    {
      "cell_type": "code",
      "source": [
        "e = np.array([8, 4, 2, 6, 7, 0, 1])\n",
        "f = np.array([1, 7, 0, 3, 5, 9, 4])\n"
      ],
      "metadata": {
        "id": "g-2vyMrB14ki"
      },
      "execution_count": 66,
      "outputs": []
    },
    {
      "cell_type": "code",
      "source": [
        "np.dot(e, f)"
      ],
      "metadata": {
        "colab": {
          "base_uri": "https://localhost:8080/"
        },
        "id": "0ahCMZgR80tg",
        "outputId": "28cda393-6b46-472e-8e02-c8eccadb8501"
      },
      "execution_count": 67,
      "outputs": [
        {
          "output_type": "execute_result",
          "data": {
            "text/plain": [
              "np.int64(93)"
            ]
          },
          "metadata": {},
          "execution_count": 67
        }
      ]
    },
    {
      "cell_type": "markdown",
      "source": [
        "7. дві матриці розміром 2x2 та 2x3, заповніть їх випадковими цілими числами в діапазоні від 1 до 10 та перемножте їх між собою"
      ],
      "metadata": {
        "id": "kLmxp4jW4kca"
      }
    },
    {
      "cell_type": "code",
      "source": [
        "s = np.random.randint(1, 11, (2, 2))\n",
        "r = np.random.randint(0, 11, (2, 3))"
      ],
      "metadata": {
        "id": "SZ9wDjwp4XRO"
      },
      "execution_count": 160,
      "outputs": []
    },
    {
      "cell_type": "code",
      "source": [
        "np.dot(s,r)"
      ],
      "metadata": {
        "colab": {
          "base_uri": "https://localhost:8080/"
        },
        "id": "lfPnWa-h5A-s",
        "outputId": "fc959f7c-4544-4621-e18b-551b59d79a4e"
      },
      "execution_count": 161,
      "outputs": [
        {
          "output_type": "execute_result",
          "data": {
            "text/plain": [
              "array([[ 15,  29,  77],\n",
              "       [ 30,  28, 114]])"
            ]
          },
          "metadata": {},
          "execution_count": 161
        }
      ]
    },
    {
      "cell_type": "markdown",
      "source": [
        "8. Створіть матрицю розміром 3x3, заповніть її випадковими цілими числами в діапазоні від 1 до 10 та знайдіть її обернену матрицю."
      ],
      "metadata": {
        "id": "NtLqZJROFdLz"
      }
    },
    {
      "cell_type": "code",
      "source": [
        "m = np.random.randint(0, 11, (3, 3))"
      ],
      "metadata": {
        "id": "YP7H9-S4FdtX"
      },
      "execution_count": 162,
      "outputs": []
    },
    {
      "cell_type": "code",
      "source": [
        "m_inv = np.linalg.inv(m)\n",
        "m_inv"
      ],
      "metadata": {
        "colab": {
          "base_uri": "https://localhost:8080/"
        },
        "id": "12o0GMNAGNjV",
        "outputId": "8b13c8e4-4ad4-4b22-ca75-138e86a8b9af"
      },
      "execution_count": 163,
      "outputs": [
        {
          "output_type": "execute_result",
          "data": {
            "text/plain": [
              "array([[-0.2       ,  0.66666667, -0.33333333],\n",
              "       [-0.6       ,  0.33333333,  0.33333333],\n",
              "       [ 0.6       , -1.33333333,  0.66666667]])"
            ]
          },
          "metadata": {},
          "execution_count": 163
        }
      ]
    },
    {
      "cell_type": "markdown",
      "source": [
        "9. Створіть матрицю розміром 4x4, заповніть її випадковими дійсними числами в діапазоні від 0 до 1 та транспонуйте її."
      ],
      "metadata": {
        "id": "-W__eEmbGpdh"
      }
    },
    {
      "cell_type": "code",
      "source": [
        "k = np.random.rand(4, 4)"
      ],
      "metadata": {
        "id": "riuT32ORGo5k"
      },
      "execution_count": 182,
      "outputs": []
    },
    {
      "cell_type": "code",
      "source": [
        "c = k.T\n",
        "c"
      ],
      "metadata": {
        "colab": {
          "base_uri": "https://localhost:8080/"
        },
        "id": "a9jF6hcgHVmA",
        "outputId": "29e04b3d-95ea-4bc3-b988-0d5adcdcfdf6"
      },
      "execution_count": 183,
      "outputs": [
        {
          "output_type": "execute_result",
          "data": {
            "text/plain": [
              "array([[0.98817629, 0.06660059, 0.51777876, 0.79718396],\n",
              "       [0.02983325, 0.45089434, 0.43074072, 0.33644363],\n",
              "       [0.0584072 , 0.31951597, 0.17482717, 0.85607915],\n",
              "       [0.63192038, 0.31694279, 0.7780001 , 0.01360339]])"
            ]
          },
          "metadata": {},
          "execution_count": 183
        }
      ]
    },
    {
      "cell_type": "markdown",
      "source": [
        "10. Створіть матрицю розміром 3x4 та вектор розміром 4, заповніть їх випадковими цілими числами в діапазоні від 1 до 10 та перемножте матрицю на вектор."
      ],
      "metadata": {
        "id": "PrzyTXGpHiOn"
      }
    },
    {
      "cell_type": "code",
      "source": [
        "p = np.random.rand(4)\n",
        "v = np.random.randint(1, 11, (3, 4))"
      ],
      "metadata": {
        "id": "EnbAAyWUHhtA"
      },
      "execution_count": 152,
      "outputs": []
    },
    {
      "cell_type": "code",
      "source": [
        "np.dot(v, p)"
      ],
      "metadata": {
        "colab": {
          "base_uri": "https://localhost:8080/"
        },
        "id": "FYTp5M5yH2zj",
        "outputId": "df9c8ed0-a07e-4942-c6ff-e597b163ece8"
      },
      "execution_count": 153,
      "outputs": [
        {
          "output_type": "execute_result",
          "data": {
            "text/plain": [
              "array([12.18338248,  6.84976098, 10.95295385])"
            ]
          },
          "metadata": {},
          "execution_count": 153
        }
      ]
    },
    {
      "cell_type": "markdown",
      "source": [
        "11. Створіть матрицю розміром 2x3 та вектор розміром 3, заповніть їх випадковими дійсними числами в діапазоні від 0 до 1 та перемножте матрицю на вектор"
      ],
      "metadata": {
        "id": "gvAa1E3iKpPl"
      }
    },
    {
      "cell_type": "code",
      "source": [
        "pt = np.random.rand(3)\n",
        "vl = np.random.randint(2, 3)"
      ],
      "metadata": {
        "id": "U1A8s9kPKo9H"
      },
      "execution_count": 178,
      "outputs": []
    },
    {
      "cell_type": "code",
      "source": [
        "np.dot(vl, pt)"
      ],
      "metadata": {
        "colab": {
          "base_uri": "https://localhost:8080/"
        },
        "id": "y2FvX7MOLHGC",
        "outputId": "b139724b-2ac4-4a65-a487-2c8a9051358d"
      },
      "execution_count": 179,
      "outputs": [
        {
          "output_type": "execute_result",
          "data": {
            "text/plain": [
              "array([0.68136641, 1.14263655, 0.9962601 ])"
            ]
          },
          "metadata": {},
          "execution_count": 179
        }
      ]
    },
    {
      "cell_type": "markdown",
      "source": [
        "12. Створіть дві матриці розміром 2x2, заповніть їх випадковими цілими числами в діапазоні від 1 до 10 та виконайте їхнє поелементне множення."
      ],
      "metadata": {
        "id": "Q0W7m6ndLL6Y"
      }
    },
    {
      "cell_type": "code",
      "source": [
        "sp = np.random.randint(1, 11, (2, 2))\n",
        "dp = np.random.randint(1, 11, (2, 2))\n"
      ],
      "metadata": {
        "id": "tIJcDV_2LLWe"
      },
      "execution_count": 145,
      "outputs": []
    },
    {
      "cell_type": "code",
      "source": [
        "np.multiply(sp, dp)"
      ],
      "metadata": {
        "colab": {
          "base_uri": "https://localhost:8080/"
        },
        "id": "kGX0AN_-Mlgh",
        "outputId": "4d675bcf-19fe-4736-8aab-68d846984f88"
      },
      "execution_count": 146,
      "outputs": [
        {
          "output_type": "execute_result",
          "data": {
            "text/plain": [
              "array([[60, 24],\n",
              "       [80, 16]])"
            ]
          },
          "metadata": {},
          "execution_count": 146
        }
      ]
    },
    {
      "cell_type": "markdown",
      "source": [
        "13. Створіть дві матриці розміром 2x2, заповніть їх випадковими цілими числами в діапазоні від 1 до 10 та знайдіть їх добуток."
      ],
      "metadata": {
        "id": "413NlaydNWCl"
      }
    },
    {
      "cell_type": "code",
      "source": [
        "sp = np.random.randint(0, 11, (2, 2))\n",
        "dp = np.random.randint(0, 11, (2, 2))"
      ],
      "metadata": {
        "id": "tXOQ-6pkNVcx"
      },
      "execution_count": 142,
      "outputs": []
    },
    {
      "cell_type": "code",
      "source": [
        "sp + dp"
      ],
      "metadata": {
        "colab": {
          "base_uri": "https://localhost:8080/"
        },
        "id": "tyXiklphNgaH",
        "outputId": "9d1e09ce-d01c-4b28-e825-c9d27a621b83"
      },
      "execution_count": 143,
      "outputs": [
        {
          "output_type": "execute_result",
          "data": {
            "text/plain": [
              "array([[11,  5],\n",
              "       [15, 11]])"
            ]
          },
          "metadata": {},
          "execution_count": 143
        }
      ]
    },
    {
      "cell_type": "markdown",
      "source": [
        "14. Створіть матрицю розміром 5x5, заповніть її випадковими цілими числами в діапазоні від 1 до 100 та знайдіть суму елементів матриці."
      ],
      "metadata": {
        "id": "Neu0ODPrNn2q"
      }
    },
    {
      "cell_type": "code",
      "source": [
        "cl = np.random.randint(0, 101, (5, 5))"
      ],
      "metadata": {
        "id": "xdY7npDQNnLr"
      },
      "execution_count": 137,
      "outputs": []
    },
    {
      "cell_type": "code",
      "source": [
        "sum_all = np.sum(cl)"
      ],
      "metadata": {
        "id": "t4VDat7HO6om"
      },
      "execution_count": 138,
      "outputs": []
    },
    {
      "cell_type": "markdown",
      "source": [
        "15. Створіть дві матриці розміром 4x4, заповніть їх випадковими цілими числами в діапазоні від 1 до 10 та знайдіть їхню різницю."
      ],
      "metadata": {
        "id": "2qv4i1vrPMEd"
      }
    },
    {
      "cell_type": "code",
      "source": [
        "kp = np.random.randint(0, 11, (4, 4))\n",
        "lt = np.random.randint(1, 11, (4, 4))\n"
      ],
      "metadata": {
        "id": "NizPgS8qPLb1"
      },
      "execution_count": 140,
      "outputs": []
    },
    {
      "cell_type": "code",
      "source": [
        "kp - lt"
      ],
      "metadata": {
        "colab": {
          "base_uri": "https://localhost:8080/"
        },
        "id": "dIOI4p2nPrw5",
        "outputId": "f4c76a24-6c05-41d8-d7bc-de0b0650ff4b"
      },
      "execution_count": 139,
      "outputs": [
        {
          "output_type": "execute_result",
          "data": {
            "text/plain": [
              "array([[ 5, -6,  0,  0],\n",
              "       [-1, -3, -1,  0],\n",
              "       [-1, -7,  2,  1],\n",
              "       [-3,  3, -2,  1]])"
            ]
          },
          "metadata": {},
          "execution_count": 139
        }
      ]
    },
    {
      "cell_type": "markdown",
      "source": [
        "16. Створіть матрицю розміром 3x3, заповніть її випадковими дійсними числами в діапазоні від 0 до 1 та знайдіть вектор-стовпчик, що містить суму елементів кожного рядка матриці."
      ],
      "metadata": {
        "id": "NJAIpZhAP8TN"
      }
    },
    {
      "cell_type": "code",
      "source": [
        "matrix = np.random.rand(3, 3)\n",
        "\n",
        "# Обчислюємо суму елементів у кожному рядку (отримуємо вектор-стовпець)\n",
        "column_vector = np.sum(matrix, axis=1).reshape(3, 1)"
      ],
      "metadata": {
        "id": "JZOe57stP7Z7"
      },
      "execution_count": 167,
      "outputs": []
    },
    {
      "cell_type": "code",
      "source": [
        "matrix"
      ],
      "metadata": {
        "colab": {
          "base_uri": "https://localhost:8080/"
        },
        "id": "aE6NARIHQl6A",
        "outputId": "51c8a5e8-3932-4d50-dc36-b033dd4c33e4"
      },
      "execution_count": 168,
      "outputs": [
        {
          "output_type": "execute_result",
          "data": {
            "text/plain": [
              "array([[0.07740842, 0.65083337, 0.03745398],\n",
              "       [0.75220077, 0.97120885, 0.97421289],\n",
              "       [0.59466596, 0.67680362, 0.26293896]])"
            ]
          },
          "metadata": {},
          "execution_count": 168
        }
      ]
    },
    {
      "cell_type": "markdown",
      "source": [
        "17. Створіть матрицю розміром 3x4 з довільними цілими числами і створінь матрицю з квадратами цих чисел."
      ],
      "metadata": {
        "id": "rvTCEPVNc3V0"
      }
    },
    {
      "cell_type": "code",
      "source": [
        "bd = np.random.randint(-10, 11, (3, 4))\n",
        "\n",
        "squared_bd = np.square(bd)"
      ],
      "metadata": {
        "id": "kfSfCEY6c2ox"
      },
      "execution_count": 191,
      "outputs": []
    },
    {
      "cell_type": "code",
      "source": [
        "bd"
      ],
      "metadata": {
        "colab": {
          "base_uri": "https://localhost:8080/"
        },
        "id": "f81dS3KKeJ5r",
        "outputId": "8585917d-d371-4483-a6d3-f9a74dc700a1"
      },
      "execution_count": 192,
      "outputs": [
        {
          "output_type": "execute_result",
          "data": {
            "text/plain": [
              "array([[  3,   0,  -3,   6],\n",
              "       [  1,   0,  -3,  -1],\n",
              "       [ -5, -10,   3,   1]])"
            ]
          },
          "metadata": {},
          "execution_count": 192
        }
      ]
    },
    {
      "cell_type": "markdown",
      "source": [
        "18. Створіть вектор розміром 4, заповніть його випадковими цілими числами в діапазоні від 1 до 50 та знайдіть вектор з квадратними коренями цих чисел."
      ],
      "metadata": {
        "id": "nbKJLic9eLxb"
      }
    },
    {
      "cell_type": "code",
      "source": [
        "ab = np.random.randint(0, 50, (4))\n",
        "sqrt_ab = np.sqrt(ab)"
      ],
      "metadata": {
        "id": "49T-ujEheLjs"
      },
      "execution_count": 196,
      "outputs": []
    },
    {
      "cell_type": "code",
      "source": [
        "ab"
      ],
      "metadata": {
        "colab": {
          "base_uri": "https://localhost:8080/"
        },
        "id": "dRV87JIje8r6",
        "outputId": "fa0a3796-c26e-4a94-88d9-3be07e6c2536"
      },
      "execution_count": 197,
      "outputs": [
        {
          "output_type": "execute_result",
          "data": {
            "text/plain": [
              "array([ 8, 22, 20, 17])"
            ]
          },
          "metadata": {},
          "execution_count": 197
        }
      ]
    }
  ]
}